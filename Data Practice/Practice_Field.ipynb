{
 "cells": [
  {
   "cell_type": "code",
   "execution_count": 341,
   "metadata": {},
   "outputs": [],
   "source": [
    "# data = pd.read_csv(r'c:\\Github\\Sol\\the_data\\data-lab-3-insurance.csv')\n",
    "# data-lab-3-insurance\n",
    "# data-lab-4-heart\n",
    "# data-lab-5-hcv\n",
    "# data-lab-6-ckd-courseproject\n",
    "# data.info()"
   ]
  },
  {
   "cell_type": "code",
   "execution_count": 342,
   "metadata": {},
   "outputs": [],
   "source": [
    "import pandas as pd \n",
    "import numpy as np \n",
    "import seaborn as sns\n",
    "sns.set(style='dark', palette='muted', color_codes=True)\n",
    "import plotly.express as px\n",
    "import matplotlib.pyplot as plt \n",
    "plt.style.use('ggplot')"
   ]
  },
  {
   "cell_type": "code",
   "execution_count": 343,
   "metadata": {},
   "outputs": [],
   "source": [
    "from sklearn.impute import SimpleImputer \n",
    "from sklearn.model_selection import train_test_split \n",
    "from sklearn.preprocessing import LabelEncoder, OneHotEncoder, OrdinalEncoder, MinMaxScaler, StandardScaler \n",
    "from sklearn.linear_model import LinearRegression, LogisticRegression \n",
    "from sklearn.ensemble import RandomForestClassifier, RandomForestRegressor \n",
    "from sklearn.metrics import r2_score, mean_squared_error, silhouette_score, confusion_matrix, accuracy_score \n",
    "from sklearn.decomposition import PCA \n",
    "from sklearn.pipeline import Pipeline \n",
    "from sklearn.neighbors import KNeighborsRegressor, KNeighborsClassifier \n",
    "from sklearn.cluster import KMeans\n",
    "from sklearn.compose import ColumnTransformer"
   ]
  },
  {
   "cell_type": "code",
   "execution_count": 344,
   "metadata": {},
   "outputs": [
    {
     "name": "stdout",
     "output_type": "stream",
     "text": [
      "<class 'pandas.core.frame.DataFrame'>\n",
      "RangeIndex: 615 entries, 0 to 614\n",
      "Data columns (total 14 columns):\n",
      " #   Column      Non-Null Count  Dtype  \n",
      "---  ------      --------------  -----  \n",
      " 0   Unnamed: 0  615 non-null    int64  \n",
      " 1   Category    615 non-null    object \n",
      " 2   Age         615 non-null    int64  \n",
      " 3   Sex         615 non-null    object \n",
      " 4   ALB         614 non-null    float64\n",
      " 5   ALP         597 non-null    float64\n",
      " 6   ALT         614 non-null    float64\n",
      " 7   AST         615 non-null    float64\n",
      " 8   BIL         615 non-null    float64\n",
      " 9   CHE         615 non-null    float64\n",
      " 10  CHOL        605 non-null    float64\n",
      " 11  CREA        615 non-null    float64\n",
      " 12  GGT         615 non-null    float64\n",
      " 13  PROT        614 non-null    float64\n",
      "dtypes: float64(10), int64(2), object(2)\n",
      "memory usage: 67.4+ KB\n"
     ]
    }
   ],
   "source": [
    "data = pd.read_csv(r'c:\\Github\\Sol\\the_data\\data-lab-5-hcv.csv')\n",
    "data.info()"
   ]
  },
  {
   "cell_type": "code",
   "execution_count": 345,
   "metadata": {},
   "outputs": [
    {
     "data": {
      "text/plain": [
       "ALP           2.926829\n",
       "CHOL          1.626016\n",
       "ALB           0.162602\n",
       "ALT           0.162602\n",
       "PROT          0.162602\n",
       "Unnamed: 0    0.000000\n",
       "Category      0.000000\n",
       "Age           0.000000\n",
       "Sex           0.000000\n",
       "AST           0.000000\n",
       "BIL           0.000000\n",
       "CHE           0.000000\n",
       "CREA          0.000000\n",
       "GGT           0.000000\n",
       "dtype: float64"
      ]
     },
     "execution_count": 345,
     "metadata": {},
     "output_type": "execute_result"
    }
   ],
   "source": [
    "mis_col = data.isna().sum() * 100/len(data)\n",
    "\n",
    "mis_col.sort_values(ascending=False)"
   ]
  },
  {
   "cell_type": "code",
   "execution_count": 346,
   "metadata": {},
   "outputs": [],
   "source": [
    "# [['ALP', 'CHOL', 'ALB', 'ALT', 'PROT']] "
   ]
  },
  {
   "cell_type": "code",
   "execution_count": 347,
   "metadata": {},
   "outputs": [
    {
     "data": {
      "text/plain": [
       "Unnamed: 0    0.0\n",
       "Category      0.0\n",
       "Age           0.0\n",
       "Sex           0.0\n",
       "ALB           0.0\n",
       "ALP           0.0\n",
       "ALT           0.0\n",
       "AST           0.0\n",
       "BIL           0.0\n",
       "CHE           0.0\n",
       "CHOL          0.0\n",
       "CREA          0.0\n",
       "GGT           0.0\n",
       "PROT          0.0\n",
       "dtype: float64"
      ]
     },
     "execution_count": 347,
     "metadata": {},
     "output_type": "execute_result"
    }
   ],
   "source": [
    "\n",
    "mean_imp = SimpleImputer(strategy='mean', missing_values=np.NAN)\n",
    "\n",
    "data[['ALP', 'CHOL', 'ALB', 'ALT', 'PROT']] = mean_imp.fit_transform(data[['ALP', 'CHOL', 'ALB', 'ALT', 'PROT']])\n",
    "mis_col = data.isna().sum() * 100/len(data)\n",
    "\n",
    "mis_col.sort_values(ascending=False)"
   ]
  },
  {
   "cell_type": "code",
   "execution_count": 348,
   "metadata": {},
   "outputs": [
    {
     "data": {
      "text/plain": [
       "0"
      ]
     },
     "execution_count": 348,
     "metadata": {},
     "output_type": "execute_result"
    }
   ],
   "source": [
    "data.duplicated().sum()\n",
    "\n",
    "data.drop_duplicates(keep='first', subset=None, inplace=True, ignore_index=False)\n",
    "data.duplicated().sum()"
   ]
  },
  {
   "cell_type": "code",
   "execution_count": 349,
   "metadata": {},
   "outputs": [
    {
     "name": "stdout",
     "output_type": "stream",
     "text": [
      "<class 'pandas.core.frame.DataFrame'>\n",
      "Int64Index: 615 entries, 0 to 614\n",
      "Data columns (total 14 columns):\n",
      " #   Column      Non-Null Count  Dtype  \n",
      "---  ------      --------------  -----  \n",
      " 0   Unnamed: 0  615 non-null    int64  \n",
      " 1   Category    615 non-null    object \n",
      " 2   Age         615 non-null    int64  \n",
      " 3   Sex         615 non-null    object \n",
      " 4   ALB         615 non-null    float64\n",
      " 5   ALP         615 non-null    float64\n",
      " 6   ALT         615 non-null    float64\n",
      " 7   AST         615 non-null    float64\n",
      " 8   BIL         615 non-null    float64\n",
      " 9   CHE         615 non-null    float64\n",
      " 10  CHOL        615 non-null    float64\n",
      " 11  CREA        615 non-null    float64\n",
      " 12  GGT         615 non-null    float64\n",
      " 13  PROT        615 non-null    float64\n",
      "dtypes: float64(10), int64(2), object(2)\n",
      "memory usage: 72.1+ KB\n"
     ]
    }
   ],
   "source": [
    "data.info()"
   ]
  },
  {
   "cell_type": "code",
   "execution_count": 350,
   "metadata": {},
   "outputs": [],
   "source": [
    "data = data.drop(columns=['Unnamed: 0'])\n"
   ]
  },
  {
   "cell_type": "code",
   "execution_count": 351,
   "metadata": {},
   "outputs": [],
   "source": [
    "le =LabelEncoder()"
   ]
  },
  {
   "cell_type": "code",
   "execution_count": 352,
   "metadata": {},
   "outputs": [
    {
     "data": {
      "text/html": [
       "<div>\n",
       "<style scoped>\n",
       "    .dataframe tbody tr th:only-of-type {\n",
       "        vertical-align: middle;\n",
       "    }\n",
       "\n",
       "    .dataframe tbody tr th {\n",
       "        vertical-align: top;\n",
       "    }\n",
       "\n",
       "    .dataframe thead th {\n",
       "        text-align: right;\n",
       "    }\n",
       "</style>\n",
       "<table border=\"1\" class=\"dataframe\">\n",
       "  <thead>\n",
       "    <tr style=\"text-align: right;\">\n",
       "      <th></th>\n",
       "      <th>Age</th>\n",
       "      <th>ALB</th>\n",
       "      <th>ALP</th>\n",
       "      <th>ALT</th>\n",
       "      <th>AST</th>\n",
       "      <th>BIL</th>\n",
       "      <th>CHE</th>\n",
       "      <th>CHOL</th>\n",
       "      <th>CREA</th>\n",
       "      <th>GGT</th>\n",
       "      <th>PROT</th>\n",
       "      <th>Category_0=Blood Donor</th>\n",
       "      <th>Category_0s=suspect Blood Donor</th>\n",
       "      <th>Category_1=Hepatitis</th>\n",
       "      <th>Category_2=Fibrosis</th>\n",
       "      <th>Category_3=Cirrhosis</th>\n",
       "      <th>Sex_f</th>\n",
       "      <th>Sex_m</th>\n",
       "    </tr>\n",
       "  </thead>\n",
       "  <tbody>\n",
       "    <tr>\n",
       "      <th>0</th>\n",
       "      <td>32</td>\n",
       "      <td>38.5</td>\n",
       "      <td>52.50000</td>\n",
       "      <td>7.7</td>\n",
       "      <td>22.1</td>\n",
       "      <td>7.5</td>\n",
       "      <td>6.93</td>\n",
       "      <td>3.23</td>\n",
       "      <td>106.0</td>\n",
       "      <td>12.1</td>\n",
       "      <td>69.0</td>\n",
       "      <td>1.0</td>\n",
       "      <td>0.0</td>\n",
       "      <td>0.0</td>\n",
       "      <td>0.0</td>\n",
       "      <td>0.0</td>\n",
       "      <td>0.0</td>\n",
       "      <td>1.0</td>\n",
       "    </tr>\n",
       "    <tr>\n",
       "      <th>1</th>\n",
       "      <td>32</td>\n",
       "      <td>38.5</td>\n",
       "      <td>70.30000</td>\n",
       "      <td>18.0</td>\n",
       "      <td>24.7</td>\n",
       "      <td>3.9</td>\n",
       "      <td>11.17</td>\n",
       "      <td>4.80</td>\n",
       "      <td>74.0</td>\n",
       "      <td>15.6</td>\n",
       "      <td>76.5</td>\n",
       "      <td>1.0</td>\n",
       "      <td>0.0</td>\n",
       "      <td>0.0</td>\n",
       "      <td>0.0</td>\n",
       "      <td>0.0</td>\n",
       "      <td>0.0</td>\n",
       "      <td>1.0</td>\n",
       "    </tr>\n",
       "    <tr>\n",
       "      <th>2</th>\n",
       "      <td>32</td>\n",
       "      <td>46.9</td>\n",
       "      <td>74.70000</td>\n",
       "      <td>36.2</td>\n",
       "      <td>52.6</td>\n",
       "      <td>6.1</td>\n",
       "      <td>8.84</td>\n",
       "      <td>5.20</td>\n",
       "      <td>86.0</td>\n",
       "      <td>33.2</td>\n",
       "      <td>79.3</td>\n",
       "      <td>1.0</td>\n",
       "      <td>0.0</td>\n",
       "      <td>0.0</td>\n",
       "      <td>0.0</td>\n",
       "      <td>0.0</td>\n",
       "      <td>0.0</td>\n",
       "      <td>1.0</td>\n",
       "    </tr>\n",
       "    <tr>\n",
       "      <th>3</th>\n",
       "      <td>32</td>\n",
       "      <td>43.2</td>\n",
       "      <td>52.00000</td>\n",
       "      <td>30.6</td>\n",
       "      <td>22.6</td>\n",
       "      <td>18.9</td>\n",
       "      <td>7.33</td>\n",
       "      <td>4.74</td>\n",
       "      <td>80.0</td>\n",
       "      <td>33.8</td>\n",
       "      <td>75.7</td>\n",
       "      <td>1.0</td>\n",
       "      <td>0.0</td>\n",
       "      <td>0.0</td>\n",
       "      <td>0.0</td>\n",
       "      <td>0.0</td>\n",
       "      <td>0.0</td>\n",
       "      <td>1.0</td>\n",
       "    </tr>\n",
       "    <tr>\n",
       "      <th>4</th>\n",
       "      <td>32</td>\n",
       "      <td>39.2</td>\n",
       "      <td>74.10000</td>\n",
       "      <td>32.6</td>\n",
       "      <td>24.8</td>\n",
       "      <td>9.6</td>\n",
       "      <td>9.15</td>\n",
       "      <td>4.32</td>\n",
       "      <td>76.0</td>\n",
       "      <td>29.9</td>\n",
       "      <td>68.7</td>\n",
       "      <td>1.0</td>\n",
       "      <td>0.0</td>\n",
       "      <td>0.0</td>\n",
       "      <td>0.0</td>\n",
       "      <td>0.0</td>\n",
       "      <td>0.0</td>\n",
       "      <td>1.0</td>\n",
       "    </tr>\n",
       "    <tr>\n",
       "      <th>...</th>\n",
       "      <td>...</td>\n",
       "      <td>...</td>\n",
       "      <td>...</td>\n",
       "      <td>...</td>\n",
       "      <td>...</td>\n",
       "      <td>...</td>\n",
       "      <td>...</td>\n",
       "      <td>...</td>\n",
       "      <td>...</td>\n",
       "      <td>...</td>\n",
       "      <td>...</td>\n",
       "      <td>...</td>\n",
       "      <td>...</td>\n",
       "      <td>...</td>\n",
       "      <td>...</td>\n",
       "      <td>...</td>\n",
       "      <td>...</td>\n",
       "      <td>...</td>\n",
       "    </tr>\n",
       "    <tr>\n",
       "      <th>610</th>\n",
       "      <td>62</td>\n",
       "      <td>32.0</td>\n",
       "      <td>416.60000</td>\n",
       "      <td>5.9</td>\n",
       "      <td>110.3</td>\n",
       "      <td>50.0</td>\n",
       "      <td>5.57</td>\n",
       "      <td>6.30</td>\n",
       "      <td>55.7</td>\n",
       "      <td>650.9</td>\n",
       "      <td>68.5</td>\n",
       "      <td>0.0</td>\n",
       "      <td>0.0</td>\n",
       "      <td>0.0</td>\n",
       "      <td>0.0</td>\n",
       "      <td>1.0</td>\n",
       "      <td>1.0</td>\n",
       "      <td>0.0</td>\n",
       "    </tr>\n",
       "    <tr>\n",
       "      <th>611</th>\n",
       "      <td>64</td>\n",
       "      <td>24.0</td>\n",
       "      <td>102.80000</td>\n",
       "      <td>2.9</td>\n",
       "      <td>44.4</td>\n",
       "      <td>20.0</td>\n",
       "      <td>1.54</td>\n",
       "      <td>3.02</td>\n",
       "      <td>63.0</td>\n",
       "      <td>35.9</td>\n",
       "      <td>71.3</td>\n",
       "      <td>0.0</td>\n",
       "      <td>0.0</td>\n",
       "      <td>0.0</td>\n",
       "      <td>0.0</td>\n",
       "      <td>1.0</td>\n",
       "      <td>1.0</td>\n",
       "      <td>0.0</td>\n",
       "    </tr>\n",
       "    <tr>\n",
       "      <th>612</th>\n",
       "      <td>64</td>\n",
       "      <td>29.0</td>\n",
       "      <td>87.30000</td>\n",
       "      <td>3.5</td>\n",
       "      <td>99.0</td>\n",
       "      <td>48.0</td>\n",
       "      <td>1.66</td>\n",
       "      <td>3.63</td>\n",
       "      <td>66.7</td>\n",
       "      <td>64.2</td>\n",
       "      <td>82.0</td>\n",
       "      <td>0.0</td>\n",
       "      <td>0.0</td>\n",
       "      <td>0.0</td>\n",
       "      <td>0.0</td>\n",
       "      <td>1.0</td>\n",
       "      <td>1.0</td>\n",
       "      <td>0.0</td>\n",
       "    </tr>\n",
       "    <tr>\n",
       "      <th>613</th>\n",
       "      <td>46</td>\n",
       "      <td>33.0</td>\n",
       "      <td>68.28392</td>\n",
       "      <td>39.0</td>\n",
       "      <td>62.0</td>\n",
       "      <td>20.0</td>\n",
       "      <td>3.56</td>\n",
       "      <td>4.20</td>\n",
       "      <td>52.0</td>\n",
       "      <td>50.0</td>\n",
       "      <td>71.0</td>\n",
       "      <td>0.0</td>\n",
       "      <td>0.0</td>\n",
       "      <td>0.0</td>\n",
       "      <td>0.0</td>\n",
       "      <td>1.0</td>\n",
       "      <td>1.0</td>\n",
       "      <td>0.0</td>\n",
       "    </tr>\n",
       "    <tr>\n",
       "      <th>614</th>\n",
       "      <td>59</td>\n",
       "      <td>36.0</td>\n",
       "      <td>68.28392</td>\n",
       "      <td>100.0</td>\n",
       "      <td>80.0</td>\n",
       "      <td>12.0</td>\n",
       "      <td>9.07</td>\n",
       "      <td>5.30</td>\n",
       "      <td>67.0</td>\n",
       "      <td>34.0</td>\n",
       "      <td>68.0</td>\n",
       "      <td>0.0</td>\n",
       "      <td>0.0</td>\n",
       "      <td>0.0</td>\n",
       "      <td>0.0</td>\n",
       "      <td>1.0</td>\n",
       "      <td>1.0</td>\n",
       "      <td>0.0</td>\n",
       "    </tr>\n",
       "  </tbody>\n",
       "</table>\n",
       "<p>615 rows × 18 columns</p>\n",
       "</div>"
      ],
      "text/plain": [
       "     Age   ALB        ALP    ALT    AST   BIL    CHE  CHOL   CREA    GGT  \\\n",
       "0     32  38.5   52.50000    7.7   22.1   7.5   6.93  3.23  106.0   12.1   \n",
       "1     32  38.5   70.30000   18.0   24.7   3.9  11.17  4.80   74.0   15.6   \n",
       "2     32  46.9   74.70000   36.2   52.6   6.1   8.84  5.20   86.0   33.2   \n",
       "3     32  43.2   52.00000   30.6   22.6  18.9   7.33  4.74   80.0   33.8   \n",
       "4     32  39.2   74.10000   32.6   24.8   9.6   9.15  4.32   76.0   29.9   \n",
       "..   ...   ...        ...    ...    ...   ...    ...   ...    ...    ...   \n",
       "610   62  32.0  416.60000    5.9  110.3  50.0   5.57  6.30   55.7  650.9   \n",
       "611   64  24.0  102.80000    2.9   44.4  20.0   1.54  3.02   63.0   35.9   \n",
       "612   64  29.0   87.30000    3.5   99.0  48.0   1.66  3.63   66.7   64.2   \n",
       "613   46  33.0   68.28392   39.0   62.0  20.0   3.56  4.20   52.0   50.0   \n",
       "614   59  36.0   68.28392  100.0   80.0  12.0   9.07  5.30   67.0   34.0   \n",
       "\n",
       "     PROT  Category_0=Blood Donor  Category_0s=suspect Blood Donor  \\\n",
       "0    69.0                     1.0                              0.0   \n",
       "1    76.5                     1.0                              0.0   \n",
       "2    79.3                     1.0                              0.0   \n",
       "3    75.7                     1.0                              0.0   \n",
       "4    68.7                     1.0                              0.0   \n",
       "..    ...                     ...                              ...   \n",
       "610  68.5                     0.0                              0.0   \n",
       "611  71.3                     0.0                              0.0   \n",
       "612  82.0                     0.0                              0.0   \n",
       "613  71.0                     0.0                              0.0   \n",
       "614  68.0                     0.0                              0.0   \n",
       "\n",
       "     Category_1=Hepatitis  Category_2=Fibrosis  Category_3=Cirrhosis  Sex_f  \\\n",
       "0                     0.0                  0.0                   0.0    0.0   \n",
       "1                     0.0                  0.0                   0.0    0.0   \n",
       "2                     0.0                  0.0                   0.0    0.0   \n",
       "3                     0.0                  0.0                   0.0    0.0   \n",
       "4                     0.0                  0.0                   0.0    0.0   \n",
       "..                    ...                  ...                   ...    ...   \n",
       "610                   0.0                  0.0                   1.0    1.0   \n",
       "611                   0.0                  0.0                   1.0    1.0   \n",
       "612                   0.0                  0.0                   1.0    1.0   \n",
       "613                   0.0                  0.0                   1.0    1.0   \n",
       "614                   0.0                  0.0                   1.0    1.0   \n",
       "\n",
       "     Sex_m  \n",
       "0      1.0  \n",
       "1      1.0  \n",
       "2      1.0  \n",
       "3      1.0  \n",
       "4      1.0  \n",
       "..     ...  \n",
       "610    0.0  \n",
       "611    0.0  \n",
       "612    0.0  \n",
       "613    0.0  \n",
       "614    0.0  \n",
       "\n",
       "[615 rows x 18 columns]"
      ]
     },
     "execution_count": 352,
     "metadata": {},
     "output_type": "execute_result"
    }
   ],
   "source": [
    "y = data.Category \n",
    "\n",
    "y_true = le.fit_transform(y)\n",
    "\n",
    "data = pd.get_dummies(data, dtype=float)\n",
    "data"
   ]
  },
  {
   "cell_type": "code",
   "execution_count": 353,
   "metadata": {},
   "outputs": [],
   "source": [
    "\n",
    "le.classes_ \n",
    "n_clusters = len(le.classes_)\n",
    "\n",
    "preprocessor = Pipeline( \n",
    "     [ \n",
    "         ('scaler', MinMaxScaler()),\n",
    "         ('pca', PCA(n_components=2, random_state=42))\n",
    "     ]\n",
    ")"
   ]
  },
  {
   "cell_type": "code",
   "execution_count": 354,
   "metadata": {},
   "outputs": [],
   "source": [
    "\n",
    "clusterer = Pipeline( \n",
    "    [ \n",
    "        ( \n",
    "            'kmeans',\n",
    "            KMeans( \n",
    "                n_clusters=n_clusters,\n",
    "                init = 'k-means++',\n",
    "                n_init=50,\n",
    "                max_iter=500,\n",
    "                random_state=42\n",
    "            )\n",
    "        )\n",
    "    ]\n",
    ")"
   ]
  },
  {
   "cell_type": "code",
   "execution_count": 355,
   "metadata": {},
   "outputs": [],
   "source": [
    "pipe = Pipeline( \n",
    "    [ \n",
    "        ('preprocessor',preprocessor),\n",
    "        ('clusterer', clusterer)\n",
    "    ]\n",
    ")"
   ]
  },
  {
   "cell_type": "code",
   "execution_count": 356,
   "metadata": {},
   "outputs": [
    {
     "data": {
      "text/html": [
       "<style>#sk-container-id-16 {color: black;background-color: white;}#sk-container-id-16 pre{padding: 0;}#sk-container-id-16 div.sk-toggleable {background-color: white;}#sk-container-id-16 label.sk-toggleable__label {cursor: pointer;display: block;width: 100%;margin-bottom: 0;padding: 0.3em;box-sizing: border-box;text-align: center;}#sk-container-id-16 label.sk-toggleable__label-arrow:before {content: \"▸\";float: left;margin-right: 0.25em;color: #696969;}#sk-container-id-16 label.sk-toggleable__label-arrow:hover:before {color: black;}#sk-container-id-16 div.sk-estimator:hover label.sk-toggleable__label-arrow:before {color: black;}#sk-container-id-16 div.sk-toggleable__content {max-height: 0;max-width: 0;overflow: hidden;text-align: left;background-color: #f0f8ff;}#sk-container-id-16 div.sk-toggleable__content pre {margin: 0.2em;color: black;border-radius: 0.25em;background-color: #f0f8ff;}#sk-container-id-16 input.sk-toggleable__control:checked~div.sk-toggleable__content {max-height: 200px;max-width: 100%;overflow: auto;}#sk-container-id-16 input.sk-toggleable__control:checked~label.sk-toggleable__label-arrow:before {content: \"▾\";}#sk-container-id-16 div.sk-estimator input.sk-toggleable__control:checked~label.sk-toggleable__label {background-color: #d4ebff;}#sk-container-id-16 div.sk-label input.sk-toggleable__control:checked~label.sk-toggleable__label {background-color: #d4ebff;}#sk-container-id-16 input.sk-hidden--visually {border: 0;clip: rect(1px 1px 1px 1px);clip: rect(1px, 1px, 1px, 1px);height: 1px;margin: -1px;overflow: hidden;padding: 0;position: absolute;width: 1px;}#sk-container-id-16 div.sk-estimator {font-family: monospace;background-color: #f0f8ff;border: 1px dotted black;border-radius: 0.25em;box-sizing: border-box;margin-bottom: 0.5em;}#sk-container-id-16 div.sk-estimator:hover {background-color: #d4ebff;}#sk-container-id-16 div.sk-parallel-item::after {content: \"\";width: 100%;border-bottom: 1px solid gray;flex-grow: 1;}#sk-container-id-16 div.sk-label:hover label.sk-toggleable__label {background-color: #d4ebff;}#sk-container-id-16 div.sk-serial::before {content: \"\";position: absolute;border-left: 1px solid gray;box-sizing: border-box;top: 0;bottom: 0;left: 50%;z-index: 0;}#sk-container-id-16 div.sk-serial {display: flex;flex-direction: column;align-items: center;background-color: white;padding-right: 0.2em;padding-left: 0.2em;position: relative;}#sk-container-id-16 div.sk-item {position: relative;z-index: 1;}#sk-container-id-16 div.sk-parallel {display: flex;align-items: stretch;justify-content: center;background-color: white;position: relative;}#sk-container-id-16 div.sk-item::before, #sk-container-id-16 div.sk-parallel-item::before {content: \"\";position: absolute;border-left: 1px solid gray;box-sizing: border-box;top: 0;bottom: 0;left: 50%;z-index: -1;}#sk-container-id-16 div.sk-parallel-item {display: flex;flex-direction: column;z-index: 1;position: relative;background-color: white;}#sk-container-id-16 div.sk-parallel-item:first-child::after {align-self: flex-end;width: 50%;}#sk-container-id-16 div.sk-parallel-item:last-child::after {align-self: flex-start;width: 50%;}#sk-container-id-16 div.sk-parallel-item:only-child::after {width: 0;}#sk-container-id-16 div.sk-dashed-wrapped {border: 1px dashed gray;margin: 0 0.4em 0.5em 0.4em;box-sizing: border-box;padding-bottom: 0.4em;background-color: white;}#sk-container-id-16 div.sk-label label {font-family: monospace;font-weight: bold;display: inline-block;line-height: 1.2em;}#sk-container-id-16 div.sk-label-container {text-align: center;}#sk-container-id-16 div.sk-container {/* jupyter's `normalize.less` sets `[hidden] { display: none; }` but bootstrap.min.css set `[hidden] { display: none !important; }` so we also need the `!important` here to be able to override the default hidden behavior on the sphinx rendered scikit-learn.org. See: https://github.com/scikit-learn/scikit-learn/issues/21755 */display: inline-block !important;position: relative;}#sk-container-id-16 div.sk-text-repr-fallback {display: none;}</style><div id=\"sk-container-id-16\" class=\"sk-top-container\"><div class=\"sk-text-repr-fallback\"><pre>Pipeline(steps=[(&#x27;preprocessor&#x27;,\n",
       "                 Pipeline(steps=[(&#x27;scaler&#x27;, MinMaxScaler()),\n",
       "                                 (&#x27;pca&#x27;,\n",
       "                                  PCA(n_components=2, random_state=42))])),\n",
       "                (&#x27;clusterer&#x27;,\n",
       "                 Pipeline(steps=[(&#x27;kmeans&#x27;,\n",
       "                                  KMeans(max_iter=500, n_clusters=5, n_init=50,\n",
       "                                         random_state=42))]))])</pre><b>In a Jupyter environment, please rerun this cell to show the HTML representation or trust the notebook. <br />On GitHub, the HTML representation is unable to render, please try loading this page with nbviewer.org.</b></div><div class=\"sk-container\" hidden><div class=\"sk-item sk-dashed-wrapped\"><div class=\"sk-label-container\"><div class=\"sk-label sk-toggleable\"><input class=\"sk-toggleable__control sk-hidden--visually\" id=\"sk-estimator-id-91\" type=\"checkbox\" ><label for=\"sk-estimator-id-91\" class=\"sk-toggleable__label sk-toggleable__label-arrow\">Pipeline</label><div class=\"sk-toggleable__content\"><pre>Pipeline(steps=[(&#x27;preprocessor&#x27;,\n",
       "                 Pipeline(steps=[(&#x27;scaler&#x27;, MinMaxScaler()),\n",
       "                                 (&#x27;pca&#x27;,\n",
       "                                  PCA(n_components=2, random_state=42))])),\n",
       "                (&#x27;clusterer&#x27;,\n",
       "                 Pipeline(steps=[(&#x27;kmeans&#x27;,\n",
       "                                  KMeans(max_iter=500, n_clusters=5, n_init=50,\n",
       "                                         random_state=42))]))])</pre></div></div></div><div class=\"sk-serial\"><div class=\"sk-item\"><div class=\"sk-label-container\"><div class=\"sk-label sk-toggleable\"><input class=\"sk-toggleable__control sk-hidden--visually\" id=\"sk-estimator-id-92\" type=\"checkbox\" ><label for=\"sk-estimator-id-92\" class=\"sk-toggleable__label sk-toggleable__label-arrow\">preprocessor: Pipeline</label><div class=\"sk-toggleable__content\"><pre>Pipeline(steps=[(&#x27;scaler&#x27;, MinMaxScaler()),\n",
       "                (&#x27;pca&#x27;, PCA(n_components=2, random_state=42))])</pre></div></div></div><div class=\"sk-serial\"><div class=\"sk-item\"><div class=\"sk-estimator sk-toggleable\"><input class=\"sk-toggleable__control sk-hidden--visually\" id=\"sk-estimator-id-93\" type=\"checkbox\" ><label for=\"sk-estimator-id-93\" class=\"sk-toggleable__label sk-toggleable__label-arrow\">MinMaxScaler</label><div class=\"sk-toggleable__content\"><pre>MinMaxScaler()</pre></div></div></div><div class=\"sk-item\"><div class=\"sk-estimator sk-toggleable\"><input class=\"sk-toggleable__control sk-hidden--visually\" id=\"sk-estimator-id-94\" type=\"checkbox\" ><label for=\"sk-estimator-id-94\" class=\"sk-toggleable__label sk-toggleable__label-arrow\">PCA</label><div class=\"sk-toggleable__content\"><pre>PCA(n_components=2, random_state=42)</pre></div></div></div></div></div><div class=\"sk-item\"><div class=\"sk-label-container\"><div class=\"sk-label sk-toggleable\"><input class=\"sk-toggleable__control sk-hidden--visually\" id=\"sk-estimator-id-95\" type=\"checkbox\" ><label for=\"sk-estimator-id-95\" class=\"sk-toggleable__label sk-toggleable__label-arrow\">clusterer: Pipeline</label><div class=\"sk-toggleable__content\"><pre>Pipeline(steps=[(&#x27;kmeans&#x27;,\n",
       "                 KMeans(max_iter=500, n_clusters=5, n_init=50,\n",
       "                        random_state=42))])</pre></div></div></div><div class=\"sk-serial\"><div class=\"sk-item\"><div class=\"sk-estimator sk-toggleable\"><input class=\"sk-toggleable__control sk-hidden--visually\" id=\"sk-estimator-id-96\" type=\"checkbox\" ><label for=\"sk-estimator-id-96\" class=\"sk-toggleable__label sk-toggleable__label-arrow\">KMeans</label><div class=\"sk-toggleable__content\"><pre>KMeans(max_iter=500, n_clusters=5, n_init=50, random_state=42)</pre></div></div></div></div></div></div></div></div></div>"
      ],
      "text/plain": [
       "Pipeline(steps=[('preprocessor',\n",
       "                 Pipeline(steps=[('scaler', MinMaxScaler()),\n",
       "                                 ('pca',\n",
       "                                  PCA(n_components=2, random_state=42))])),\n",
       "                ('clusterer',\n",
       "                 Pipeline(steps=[('kmeans',\n",
       "                                  KMeans(max_iter=500, n_clusters=5, n_init=50,\n",
       "                                         random_state=42))]))])"
      ]
     },
     "execution_count": 356,
     "metadata": {},
     "output_type": "execute_result"
    }
   ],
   "source": [
    "pipe.fit(data)"
   ]
  },
  {
   "cell_type": "code",
   "execution_count": 357,
   "metadata": {},
   "outputs": [
    {
     "data": {
      "text/plain": [
       "0.946"
      ]
     },
     "execution_count": 357,
     "metadata": {},
     "output_type": "execute_result"
    }
   ],
   "source": [
    "preprocessed_data = pipe['preprocessor'].transform(data)\n",
    "predicted_labels = pipe['clusterer']['kmeans'].labels_\n",
    "\n",
    "sil_scr = silhouette_score(preprocessed_data, predicted_labels)\n",
    "\n",
    "sil_scr.round(3)"
   ]
  },
  {
   "cell_type": "code",
   "execution_count": 358,
   "metadata": {},
   "outputs": [],
   "source": [
    "# data['predicted_labels'] = predicted_labels\n",
    "# data"
   ]
  },
  {
   "cell_type": "code",
   "execution_count": 359,
   "metadata": {},
   "outputs": [
    {
     "data": {
      "image/png": "[encoded data removed]",
      "text/plain": [
       "<Figure size 720x576 with 1 Axes>"
      ]
     },
     "metadata": {},
     "output_type": "display_data"
    }
   ],
   "source": [
    "pcdaf = pd.DataFrame( \n",
    "    preprocessed_data,\n",
    "    columns=['x', 'y']\n",
    ")\n",
    "\n",
    "pcdaf['predicted_cluster'] = predicted_labels \n",
    "pcdaf['true_label'] = le.inverse_transform(y_true)\n",
    "\n",
    "plt.figure(figsize=(10,8))\n",
    "\n",
    "scat = sns.scatterplot( \n",
    "    data = pcdaf,\n",
    "    x = 'x',\n",
    "    y='y',\n",
    "    s=50,\n",
    "    hue='predicted_cluster',\n",
    "    style='true_label',\n",
    "    palette='Set2',\n",
    "\n",
    ")\n",
    "\n",
    "plt.legend(bbox_to_anchor=(1.05,1), loc=2, borderaxespad=0.0)\n",
    "\n",
    "plt.show()"
   ]
  },
  {
   "cell_type": "code",
   "execution_count": null,
   "metadata": {},
   "outputs": [],
   "source": []
  },
  {
   "cell_type": "code",
   "execution_count": null,
   "metadata": {},
   "outputs": [],
   "source": []
  },
  {
   "cell_type": "code",
   "execution_count": null,
   "metadata": {},
   "outputs": [],
   "source": []
  },
  {
   "cell_type": "code",
   "execution_count": null,
   "metadata": {},
   "outputs": [],
   "source": []
  }
 ],
 "metadata": {
  "kernelspec": {
   "display_name": "Python 3",
   "language": "python",
   "name": "python3"
  },
  "language_info": {
   "codemirror_mode": {
    "name": "ipython",
    "version": 3
   },
   "file_extension": ".py",
   "mimetype": "text/x-python",
   "name": "python",
   "nbconvert_exporter": "python",
   "pygments_lexer": "ipython3",
   "version": "3.10.5"
  },
  "orig_nbformat": 4
 },
 "nbformat": 4,
 "nbformat_minor": 2
}
