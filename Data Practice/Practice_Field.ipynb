{
 "cells": [
  {
   "cell_type": "code",
   "execution_count": 112,
   "metadata": {},
   "outputs": [],
   "source": [
    "import pandas as pd \n",
    "import numpy as np \n",
    "import seaborn as sns \n",
    "sns.set(style='dark', palette='muted', color_codes=True)\n",
    "import matplotlib.pyplot as plt \n",
    "plt.style.use('ggplot')\n",
    "import plotly.express as px "
   ]
  },
  {
   "cell_type": "code",
   "execution_count": 113,
   "metadata": {},
   "outputs": [],
   "source": [
    "from sklearn.impute import SimpleImputer \n",
    "from sklearn.metrics import r2_score,mean_squared_error,silhouette_score,confusion_matrix,accuracy_score \n",
    "from sklearn.preprocessing import LabelEncoder,StandardScaler,OrdinalEncoder,OneHotEncoder,MinMaxScaler \n",
    "from sklearn.compose import ColumnTransformer \n",
    "from sklearn.linear_model import LinearRegression,LogisticRegression \n",
    "from sklearn.model_selection import train_test_split \n",
    "from sklearn.decomposition import PCA \n",
    "from sklearn.neighbors import KNeighborsClassifier \n",
    "from sklearn.pipeline import Pipeline \n",
    "from sklearn.cluster import KMeans \n",
    "from sklearn.ensemble import RandomForestRegressor"
   ]
  },
  {
   "cell_type": "code",
   "execution_count": 114,
   "metadata": {},
   "outputs": [
    {
     "name": "stdout",
     "output_type": "stream",
     "text": [
      "<class 'pandas.core.frame.DataFrame'>\n",
      "RangeIndex: 1338 entries, 0 to 1337\n",
      "Data columns (total 7 columns):\n",
      " #   Column    Non-Null Count  Dtype  \n",
      "---  ------    --------------  -----  \n",
      " 0   age       1338 non-null   int64  \n",
      " 1   sex       1338 non-null   object \n",
      " 2   bmi       1338 non-null   float64\n",
      " 3   children  1338 non-null   int64  \n",
      " 4   smoker    1338 non-null   object \n",
      " 5   region    1338 non-null   object \n",
      " 6   charges   1338 non-null   float64\n",
      "dtypes: float64(2), int64(2), object(3)\n",
      "memory usage: 73.3+ KB\n"
     ]
    }
   ],
   "source": [
    "data = pd.read_csv(r'c:\\Github\\Sol\\the_data\\data-lab-3-insurance.csv')\n",
    "data.info()"
   ]
  },
  {
   "cell_type": "code",
   "execution_count": 115,
   "metadata": {},
   "outputs": [
    {
     "data": {
      "text/plain": [
       "age         0.0\n",
       "sex         0.0\n",
       "bmi         0.0\n",
       "children    0.0\n",
       "smoker      0.0\n",
       "region      0.0\n",
       "charges     0.0\n",
       "dtype: float64"
      ]
     },
     "execution_count": 115,
     "metadata": {},
     "output_type": "execute_result"
    }
   ],
   "source": [
    "mis_val = data.isna().sum() * 100/len(data)\n",
    "mis_val.sort_values(ascending=False)\n",
    "mis_val"
   ]
  },
  {
   "cell_type": "code",
   "execution_count": 116,
   "metadata": {},
   "outputs": [
    {
     "data": {
      "text/plain": [
       "0"
      ]
     },
     "execution_count": 116,
     "metadata": {},
     "output_type": "execute_result"
    }
   ],
   "source": [
    "data.duplicated().sum()\n",
    "\n",
    "data.drop_duplicates(subset=None,inplace=True,keep='last',ignore_index=False)\n",
    "\n",
    "data.duplicated().sum()"
   ]
  },
  {
   "cell_type": "code",
   "execution_count": 117,
   "metadata": {},
   "outputs": [
    {
     "data": {
      "text/plain": [
       "{'female': 0, 'male': 1}"
      ]
     },
     "execution_count": 117,
     "metadata": {},
     "output_type": "execute_result"
    }
   ],
   "source": [
    "le = LabelEncoder()\n",
    "\n",
    "orig_sex = data.sex \n",
    "orig_sex_dic = np.unique(orig_sex)\n",
    "\n",
    "data.sex = le.fit_transform(data.sex)\n",
    "\n",
    "data.smoker = le.fit_transform(data.smoker)\n",
    "\n",
    "data.region = le.fit_transform(data.region)\n",
    "\n",
    "le_sex = data.sex \n",
    "le_sex_dic = np.unique(le_sex)\n",
    "\n",
    "sex_dic = dict(zip(orig_sex_dic,le_sex_dic))\n",
    "\n",
    "sex_dic"
   ]
  },
  {
   "cell_type": "code",
   "execution_count": 118,
   "metadata": {},
   "outputs": [
    {
     "data": {
      "text/plain": [
       "<AxesSubplot:title={'center':'Correlation Matrix'}>"
      ]
     },
     "execution_count": 118,
     "metadata": {},
     "output_type": "execute_result"
    },
    {
     "data": {
      "image/png": "[encoded data removed]",
      "text/plain": [
       "<Figure size 720x576 with 2 Axes>"
      ]
     },
     "metadata": {},
     "output_type": "display_data"
    }
   ],
   "source": [
    "data_corr = data.corr()\n",
    "\n",
    "f,ax = plt.subplots(figsize=(10,8))\n",
    "\n",
    "ax.set_title('Correlation Matrix')\n",
    "\n",
    "sns.heatmap(data_corr, mask=np.zeros_like(data_corr,dtype=np.bool_),cmap=sns.diverging_palette(240,10, as_cmap=True), square=True,ax=ax)"
   ]
  },
  {
   "cell_type": "code",
   "execution_count": 119,
   "metadata": {},
   "outputs": [],
   "source": [
    "x = data.drop(columns=['charges'])\n",
    "y = data.charges"
   ]
  },
  {
   "cell_type": "code",
   "execution_count": 120,
   "metadata": {},
   "outputs": [
    {
     "data": {
      "text/html": [
       "<div>\n",
       "<style scoped>\n",
       "    .dataframe tbody tr th:only-of-type {\n",
       "        vertical-align: middle;\n",
       "    }\n",
       "\n",
       "    .dataframe tbody tr th {\n",
       "        vertical-align: top;\n",
       "    }\n",
       "\n",
       "    .dataframe thead th {\n",
       "        text-align: right;\n",
       "    }\n",
       "</style>\n",
       "<table border=\"1\" class=\"dataframe\">\n",
       "  <thead>\n",
       "    <tr style=\"text-align: right;\">\n",
       "      <th></th>\n",
       "      <th>0</th>\n",
       "      <th>1</th>\n",
       "      <th>2</th>\n",
       "      <th>3</th>\n",
       "      <th>4</th>\n",
       "      <th>5</th>\n",
       "    </tr>\n",
       "  </thead>\n",
       "  <tbody>\n",
       "    <tr>\n",
       "      <th>0</th>\n",
       "      <td>-1.440418</td>\n",
       "      <td>-1.009771</td>\n",
       "      <td>-0.453160</td>\n",
       "      <td>-0.909234</td>\n",
       "      <td>1.969660</td>\n",
       "      <td>1.343163</td>\n",
       "    </tr>\n",
       "    <tr>\n",
       "      <th>1</th>\n",
       "      <td>-1.511647</td>\n",
       "      <td>0.990324</td>\n",
       "      <td>0.509422</td>\n",
       "      <td>-0.079442</td>\n",
       "      <td>-0.507702</td>\n",
       "      <td>0.438017</td>\n",
       "    </tr>\n",
       "    <tr>\n",
       "      <th>2</th>\n",
       "      <td>-0.799350</td>\n",
       "      <td>0.990324</td>\n",
       "      <td>0.383155</td>\n",
       "      <td>1.580143</td>\n",
       "      <td>-0.507702</td>\n",
       "      <td>0.438017</td>\n",
       "    </tr>\n",
       "    <tr>\n",
       "      <th>3</th>\n",
       "      <td>-0.443201</td>\n",
       "      <td>0.990324</td>\n",
       "      <td>-1.305052</td>\n",
       "      <td>-0.909234</td>\n",
       "      <td>-0.507702</td>\n",
       "      <td>-0.467128</td>\n",
       "    </tr>\n",
       "    <tr>\n",
       "      <th>4</th>\n",
       "      <td>-0.514431</td>\n",
       "      <td>0.990324</td>\n",
       "      <td>-0.292456</td>\n",
       "      <td>-0.909234</td>\n",
       "      <td>-0.507702</td>\n",
       "      <td>-0.467128</td>\n",
       "    </tr>\n",
       "    <tr>\n",
       "      <th>...</th>\n",
       "      <td>...</td>\n",
       "      <td>...</td>\n",
       "      <td>...</td>\n",
       "      <td>...</td>\n",
       "      <td>...</td>\n",
       "      <td>...</td>\n",
       "    </tr>\n",
       "    <tr>\n",
       "      <th>1332</th>\n",
       "      <td>0.767704</td>\n",
       "      <td>0.990324</td>\n",
       "      <td>0.050269</td>\n",
       "      <td>1.580143</td>\n",
       "      <td>-0.507702</td>\n",
       "      <td>-0.467128</td>\n",
       "    </tr>\n",
       "    <tr>\n",
       "      <th>1333</th>\n",
       "      <td>-1.511647</td>\n",
       "      <td>-1.009771</td>\n",
       "      <td>0.206053</td>\n",
       "      <td>-0.909234</td>\n",
       "      <td>-0.507702</td>\n",
       "      <td>-1.372274</td>\n",
       "    </tr>\n",
       "    <tr>\n",
       "      <th>1334</th>\n",
       "      <td>-1.511647</td>\n",
       "      <td>-1.009771</td>\n",
       "      <td>1.014490</td>\n",
       "      <td>-0.909234</td>\n",
       "      <td>-0.507702</td>\n",
       "      <td>0.438017</td>\n",
       "    </tr>\n",
       "    <tr>\n",
       "      <th>1335</th>\n",
       "      <td>-1.297958</td>\n",
       "      <td>-1.009771</td>\n",
       "      <td>-0.797524</td>\n",
       "      <td>-0.909234</td>\n",
       "      <td>-0.507702</td>\n",
       "      <td>1.343163</td>\n",
       "    </tr>\n",
       "    <tr>\n",
       "      <th>1336</th>\n",
       "      <td>1.551231</td>\n",
       "      <td>-1.009771</td>\n",
       "      <td>-0.261299</td>\n",
       "      <td>-0.909234</td>\n",
       "      <td>1.969660</td>\n",
       "      <td>-0.467128</td>\n",
       "    </tr>\n",
       "  </tbody>\n",
       "</table>\n",
       "<p>1337 rows × 6 columns</p>\n",
       "</div>"
      ],
      "text/plain": [
       "             0         1         2         3         4         5\n",
       "0    -1.440418 -1.009771 -0.453160 -0.909234  1.969660  1.343163\n",
       "1    -1.511647  0.990324  0.509422 -0.079442 -0.507702  0.438017\n",
       "2    -0.799350  0.990324  0.383155  1.580143 -0.507702  0.438017\n",
       "3    -0.443201  0.990324 -1.305052 -0.909234 -0.507702 -0.467128\n",
       "4    -0.514431  0.990324 -0.292456 -0.909234 -0.507702 -0.467128\n",
       "...        ...       ...       ...       ...       ...       ...\n",
       "1332  0.767704  0.990324  0.050269  1.580143 -0.507702 -0.467128\n",
       "1333 -1.511647 -1.009771  0.206053 -0.909234 -0.507702 -1.372274\n",
       "1334 -1.511647 -1.009771  1.014490 -0.909234 -0.507702  0.438017\n",
       "1335 -1.297958 -1.009771 -0.797524 -0.909234 -0.507702  1.343163\n",
       "1336  1.551231 -1.009771 -0.261299 -0.909234  1.969660 -0.467128\n",
       "\n",
       "[1337 rows x 6 columns]"
      ]
     },
     "execution_count": 120,
     "metadata": {},
     "output_type": "execute_result"
    }
   ],
   "source": [
    "scaler = StandardScaler() \n",
    "x = pd.DataFrame(scaler.fit_transform(x))\n",
    "x"
   ]
  },
  {
   "cell_type": "code",
   "execution_count": 121,
   "metadata": {},
   "outputs": [
    {
     "data": {
      "text/plain": [
       "array([[ 0.2978567 ],\n",
       "       [-0.9543806 ],\n",
       "       [-0.72937251],\n",
       "       ...,\n",
       "       [-0.96228744],\n",
       "       [-0.9310536 ],\n",
       "       [ 1.31029752]])"
      ]
     },
     "execution_count": 121,
     "metadata": {},
     "output_type": "execute_result"
    }
   ],
   "source": [
    "y = scaler.fit_transform(np.array(y).reshape(-1,1))\n",
    "y"
   ]
  },
  {
   "cell_type": "code",
   "execution_count": 122,
   "metadata": {},
   "outputs": [],
   "source": [
    "x_train,x_test,y_train,y_test = train_test_split(x,y,random_state=42,test_size=0.3)"
   ]
  },
  {
   "cell_type": "code",
   "execution_count": 123,
   "metadata": {},
   "outputs": [
    {
     "data": {
      "text/html": [
       "<div>\n",
       "<style scoped>\n",
       "    .dataframe tbody tr th:only-of-type {\n",
       "        vertical-align: middle;\n",
       "    }\n",
       "\n",
       "    .dataframe tbody tr th {\n",
       "        vertical-align: top;\n",
       "    }\n",
       "\n",
       "    .dataframe thead th {\n",
       "        text-align: right;\n",
       "    }\n",
       "</style>\n",
       "<table border=\"1\" class=\"dataframe\">\n",
       "  <thead>\n",
       "    <tr style=\"text-align: right;\">\n",
       "      <th></th>\n",
       "      <th>Method</th>\n",
       "      <th>R2 Test Score</th>\n",
       "      <th>Mse Test Score</th>\n",
       "    </tr>\n",
       "  </thead>\n",
       "  <tbody>\n",
       "    <tr>\n",
       "      <th>0</th>\n",
       "      <td>LinearRegression</td>\n",
       "      <td>0.765</td>\n",
       "      <td>0.271</td>\n",
       "    </tr>\n",
       "  </tbody>\n",
       "</table>\n",
       "</div>"
      ],
      "text/plain": [
       "             Method R2 Test Score Mse Test Score\n",
       "0  LinearRegression         0.765          0.271"
      ]
     },
     "execution_count": 123,
     "metadata": {},
     "output_type": "execute_result"
    }
   ],
   "source": [
    "linreg = LinearRegression()\n",
    "\n",
    "linreg.fit(x_train,y_train)\n",
    "\n",
    "y_pred = linreg.predict(x_test)\n",
    "\n",
    "r2_scr = r2_score(y_test,y_pred).round(3)\n",
    "mse_scr = mean_squared_error(y_test,y_pred).round(3)\n",
    "\n",
    "modperf = pd.DataFrame( \n",
    "    [ \n",
    "        'LinearRegression', r2_scr,mse_scr\n",
    "    ]\n",
    ").transpose()\n",
    "\n",
    "modperf.columns = ['Method', 'R2 Test Score', 'Mse Test Score']\n",
    "\n",
    "modperf"
   ]
  },
  {
   "cell_type": "code",
   "execution_count": 124,
   "metadata": {},
   "outputs": [
    {
     "name": "stderr",
     "output_type": "stream",
     "text": [
      "C:\\Users\\amunv\\AppData\\Local\\Temp\\ipykernel_20884\\3821393543.py:3: DataConversionWarning:\n",
      "\n",
      "A column-vector y was passed when a 1d array was expected. Please change the shape of y to (n_samples,), for example using ravel().\n",
      "\n"
     ]
    },
    {
     "data": {
      "text/plain": [
       "0.181"
      ]
     },
     "execution_count": 124,
     "metadata": {},
     "output_type": "execute_result"
    }
   ],
   "source": [
    "ranfor = RandomForestRegressor(n_estimators=100,n_jobs=-1,random_state=42,criterion='squared_error')\n",
    "\n",
    "ranfor.fit(x_train,y_train)\n",
    "\n",
    "y_pred = ranfor.predict(x_test)\n",
    "\n",
    "scr_mse = mean_squared_error(y_test,y_pred).round(3)\n",
    "\n",
    "scr_mse"
   ]
  },
  {
   "cell_type": "code",
   "execution_count": null,
   "metadata": {},
   "outputs": [],
   "source": []
  },
  {
   "cell_type": "code",
   "execution_count": null,
   "metadata": {},
   "outputs": [],
   "source": []
  }
 ],
 "metadata": {
  "kernelspec": {
   "display_name": "Python 3",
   "language": "python",
   "name": "python3"
  },
  "language_info": {
   "codemirror_mode": {
    "name": "ipython",
    "version": 3
   },
   "file_extension": ".py",
   "mimetype": "text/x-python",
   "name": "python",
   "nbconvert_exporter": "python",
   "pygments_lexer": "ipython3",
   "version": "3.10.5"
  },
  "orig_nbformat": 4
 },
 "nbformat": 4,
 "nbformat_minor": 2
}
