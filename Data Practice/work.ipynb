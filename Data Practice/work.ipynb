{
 "cells": [
  {
   "cell_type": "code",
   "execution_count": 231,
   "metadata": {},
   "outputs": [],
   "source": [
    "import pandas as pd \n",
    "import numpy as np \n",
    "import seaborn as sns\n",
    "sns.set(style='white', palette='muted', color_codes=True)\n",
    "import matplotlib.pyplot as plt \n",
    "plt.style.use('ggplot')\n",
    "import plotly.express as px "
   ]
  },
  {
   "cell_type": "code",
   "execution_count": 232,
   "metadata": {},
   "outputs": [],
   "source": [
    "from sklearn.impute import SimpleImputer \n",
    "from sklearn.linear_model import LinearRegression,LogisticRegression \n",
    "from sklearn.preprocessing import LabelEncoder,StandardScaler,MinMaxScaler,OneHotEncoder,OrdinalEncoder \n",
    "from sklearn.metrics import r2_score,mean_squared_error,accuracy_score,silhouette_score,confusion_matrix \n",
    "from sklearn.compose import ColumnTransformer \n",
    "from sklearn.model_selection import train_test_split \n",
    "from sklearn.pipeline import Pipeline \n",
    "from sklearn.ensemble import RandomForestClassifier,RandomForestRegressor \n",
    "from sklearn.cluster import KMeans \n",
    "from sklearn.neighbors import KNeighborsClassifier \n",
    "from sklearn.decomposition import PCA "
   ]
  },
  {
   "cell_type": "code",
   "execution_count": 233,
   "metadata": {},
   "outputs": [
    {
     "name": "stdout",
     "output_type": "stream",
     "text": [
      "<class 'pandas.core.frame.DataFrame'>\n",
      "RangeIndex: 52680 entries, 0 to 52679\n",
      "Data columns (total 15 columns):\n",
      " #   Column           Non-Null Count  Dtype  \n",
      "---  ------           --------------  -----  \n",
      " 0   submission_date  52680 non-null  object \n",
      " 1   state            52680 non-null  object \n",
      " 2   tot_cases        52680 non-null  int64  \n",
      " 3   conf_cases       29264 non-null  float64\n",
      " 4   prob_cases       29192 non-null  float64\n",
      " 5   new_case         52680 non-null  int64  \n",
      " 6   pnew_case        48935 non-null  float64\n",
      " 7   tot_death        52680 non-null  int64  \n",
      " 8   conf_death       28749 non-null  float64\n",
      " 9   prob_death       28749 non-null  float64\n",
      " 10  new_death        52680 non-null  int64  \n",
      " 11  pnew_death       48967 non-null  float64\n",
      " 12  created_at       52680 non-null  object \n",
      " 13  consent_cases    43895 non-null  object \n",
      " 14  consent_deaths   44778 non-null  object \n",
      "dtypes: float64(6), int64(4), object(5)\n",
      "memory usage: 6.0+ MB\n"
     ]
    }
   ],
   "source": [
    "data = pd.read_csv(r'c:\\Github\\Sol\\the_data\\us_covid.csv')\n",
    "# r'c:\\Github\\Sol\\the_data\\data-lab-4-heart.csv'\n",
    "data.info()"
   ]
  },
  {
   "cell_type": "code",
   "execution_count": 234,
   "metadata": {},
   "outputs": [],
   "source": [
    "num_val = ['tot_cases', 'conf_cases', 'prob_cases', 'new_case', 'pnew_case', 'tot_death', 'conf_death','prob_death', 'new_death', 'new_death', 'pnew_death']\n",
    "cat_val = ['submission_date', 'state', 'created_at', 'consent_cases', 'consent_deaths']"
   ]
  },
  {
   "cell_type": "code",
   "execution_count": 235,
   "metadata": {},
   "outputs": [
    {
     "data": {
      "text/plain": [
       "0"
      ]
     },
     "execution_count": 235,
     "metadata": {},
     "output_type": "execute_result"
    }
   ],
   "source": [
    "data.duplicated().sum()"
   ]
  },
  {
   "cell_type": "code",
   "execution_count": 236,
   "metadata": {},
   "outputs": [
    {
     "data": {
      "text/plain": [
       "conf_death         45.427107\n",
       "prob_death         45.427107\n",
       "prob_cases         44.586181\n",
       "conf_cases         44.449506\n",
       "consent_cases      16.676158\n",
       "consent_deaths     15.000000\n",
       "pnew_case           7.108960\n",
       "pnew_death          7.048216\n",
       "submission_date     0.000000\n",
       "state               0.000000\n",
       "tot_cases           0.000000\n",
       "new_case            0.000000\n",
       "tot_death           0.000000\n",
       "new_death           0.000000\n",
       "created_at          0.000000\n",
       "dtype: float64"
      ]
     },
     "execution_count": 236,
     "metadata": {},
     "output_type": "execute_result"
    }
   ],
   "source": [
    "mis_val = data.isna().sum() * 100/len(data)\n",
    "mis_val.sort_values(ascending=False)"
   ]
  },
  {
   "cell_type": "code",
   "execution_count": 237,
   "metadata": {},
   "outputs": [],
   "source": [
    "# mean_imp = SimpleImputer(missing_values=np.NaN, strategy='mean')\n",
    "# mode_imp = SimpleImputer(missing_values=np.NaN, strategy='most_frequent')\n",
    "\n",
    "# data[['tot_cases', 'conf_cases', 'prob_cases', 'new_case', 'pnew_case', 'tot_death', 'conf_death','prob_death', 'new_death', 'new_death', 'pnew_death']] = mean_imp.fit_transform(data[['tot_cases', 'conf_cases', 'prob_cases', 'new_case', 'pnew_case', 'tot_death', 'conf_death','prob_death', 'new_death', 'new_death', 'pnew_death']])\n",
    "\n",
    "# data[['submission_date', 'state', 'created_at', 'consent_cases', 'consent_deaths']] = mode_imp.fit_transform(data[['submission_date', 'state', 'created_at', 'consent_cases', 'consent_deaths']])"
   ]
  },
  {
   "cell_type": "markdown",
   "metadata": {},
   "source": [
    "Gonnadrop all missing data because they represent a state"
   ]
  },
  {
   "cell_type": "code",
   "execution_count": 238,
   "metadata": {},
   "outputs": [],
   "source": [
    "data = data.dropna()"
   ]
  },
  {
   "cell_type": "code",
   "execution_count": 239,
   "metadata": {},
   "outputs": [
    {
     "data": {
      "text/plain": [
       "submission_date    0.0\n",
       "state              0.0\n",
       "tot_cases          0.0\n",
       "conf_cases         0.0\n",
       "prob_cases         0.0\n",
       "new_case           0.0\n",
       "pnew_case          0.0\n",
       "tot_death          0.0\n",
       "conf_death         0.0\n",
       "prob_death         0.0\n",
       "new_death          0.0\n",
       "pnew_death         0.0\n",
       "created_at         0.0\n",
       "consent_cases      0.0\n",
       "consent_deaths     0.0\n",
       "dtype: float64"
      ]
     },
     "execution_count": 239,
     "metadata": {},
     "output_type": "execute_result"
    }
   ],
   "source": [
    "mis_val = data.isna().sum() * 100/len(data)\n",
    "mis_val.sort_values(ascending=False)"
   ]
  },
  {
   "cell_type": "code",
   "execution_count": 240,
   "metadata": {},
   "outputs": [
    {
     "data": {
      "text/html": [
       "<div>\n",
       "<style scoped>\n",
       "    .dataframe tbody tr th:only-of-type {\n",
       "        vertical-align: middle;\n",
       "    }\n",
       "\n",
       "    .dataframe tbody tr th {\n",
       "        vertical-align: top;\n",
       "    }\n",
       "\n",
       "    .dataframe thead th {\n",
       "        text-align: right;\n",
       "    }\n",
       "</style>\n",
       "<table border=\"1\" class=\"dataframe\">\n",
       "  <thead>\n",
       "    <tr style=\"text-align: right;\">\n",
       "      <th></th>\n",
       "      <th>tot_cases</th>\n",
       "      <th>conf_cases</th>\n",
       "      <th>prob_cases</th>\n",
       "      <th>new_case</th>\n",
       "      <th>pnew_case</th>\n",
       "      <th>tot_death</th>\n",
       "      <th>conf_death</th>\n",
       "      <th>prob_death</th>\n",
       "      <th>new_death</th>\n",
       "      <th>pnew_death</th>\n",
       "    </tr>\n",
       "  </thead>\n",
       "  <tbody>\n",
       "    <tr>\n",
       "      <th>count</th>\n",
       "      <td>2.406800e+04</td>\n",
       "      <td>2.406800e+04</td>\n",
       "      <td>24068.000000</td>\n",
       "      <td>24068.000000</td>\n",
       "      <td>24068.000000</td>\n",
       "      <td>24068.000000</td>\n",
       "      <td>24068.000000</td>\n",
       "      <td>24068.000000</td>\n",
       "      <td>24068.000000</td>\n",
       "      <td>24068.000000</td>\n",
       "    </tr>\n",
       "    <tr>\n",
       "      <th>mean</th>\n",
       "      <td>5.928959e+05</td>\n",
       "      <td>5.115505e+05</td>\n",
       "      <td>81345.447648</td>\n",
       "      <td>1823.258268</td>\n",
       "      <td>289.058542</td>\n",
       "      <td>9530.116669</td>\n",
       "      <td>8479.680364</td>\n",
       "      <td>1050.436305</td>\n",
       "      <td>21.594025</td>\n",
       "      <td>2.557005</td>\n",
       "    </tr>\n",
       "    <tr>\n",
       "      <th>std</th>\n",
       "      <td>7.541985e+05</td>\n",
       "      <td>6.763876e+05</td>\n",
       "      <td>123895.335197</td>\n",
       "      <td>4208.684066</td>\n",
       "      <td>778.048375</td>\n",
       "      <td>11543.261139</td>\n",
       "      <td>10625.259328</td>\n",
       "      <td>1483.513020</td>\n",
       "      <td>49.470092</td>\n",
       "      <td>26.248083</td>\n",
       "    </tr>\n",
       "    <tr>\n",
       "      <th>min</th>\n",
       "      <td>0.000000e+00</td>\n",
       "      <td>0.000000e+00</td>\n",
       "      <td>0.000000</td>\n",
       "      <td>-4803.000000</td>\n",
       "      <td>-6259.000000</td>\n",
       "      <td>0.000000</td>\n",
       "      <td>0.000000</td>\n",
       "      <td>0.000000</td>\n",
       "      <td>-352.000000</td>\n",
       "      <td>-2594.000000</td>\n",
       "    </tr>\n",
       "    <tr>\n",
       "      <th>25%</th>\n",
       "      <td>5.111675e+04</td>\n",
       "      <td>4.671400e+04</td>\n",
       "      <td>27.000000</td>\n",
       "      <td>79.000000</td>\n",
       "      <td>0.000000</td>\n",
       "      <td>912.750000</td>\n",
       "      <td>863.500000</td>\n",
       "      <td>0.000000</td>\n",
       "      <td>0.000000</td>\n",
       "      <td>0.000000</td>\n",
       "    </tr>\n",
       "    <tr>\n",
       "      <th>50%</th>\n",
       "      <td>2.905775e+05</td>\n",
       "      <td>2.444120e+05</td>\n",
       "      <td>18476.500000</td>\n",
       "      <td>577.000000</td>\n",
       "      <td>39.000000</td>\n",
       "      <td>4687.000000</td>\n",
       "      <td>4087.500000</td>\n",
       "      <td>283.000000</td>\n",
       "      <td>6.000000</td>\n",
       "      <td>0.000000</td>\n",
       "    </tr>\n",
       "    <tr>\n",
       "      <th>75%</th>\n",
       "      <td>8.688625e+05</td>\n",
       "      <td>7.555085e+05</td>\n",
       "      <td>122145.750000</td>\n",
       "      <td>1861.250000</td>\n",
       "      <td>250.000000</td>\n",
       "      <td>14502.750000</td>\n",
       "      <td>12648.000000</td>\n",
       "      <td>1640.250000</td>\n",
       "      <td>23.000000</td>\n",
       "      <td>2.000000</td>\n",
       "    </tr>\n",
       "    <tr>\n",
       "      <th>max</th>\n",
       "      <td>4.885289e+06</td>\n",
       "      <td>4.640489e+06</td>\n",
       "      <td>650437.000000</td>\n",
       "      <td>125572.000000</td>\n",
       "      <td>16929.000000</td>\n",
       "      <td>71408.000000</td>\n",
       "      <td>71408.000000</td>\n",
       "      <td>7177.000000</td>\n",
       "      <td>1178.000000</td>\n",
       "      <td>1021.000000</td>\n",
       "    </tr>\n",
       "  </tbody>\n",
       "</table>\n",
       "</div>"
      ],
      "text/plain": [
       "          tot_cases    conf_cases     prob_cases       new_case     pnew_case  \\\n",
       "count  2.406800e+04  2.406800e+04   24068.000000   24068.000000  24068.000000   \n",
       "mean   5.928959e+05  5.115505e+05   81345.447648    1823.258268    289.058542   \n",
       "std    7.541985e+05  6.763876e+05  123895.335197    4208.684066    778.048375   \n",
       "min    0.000000e+00  0.000000e+00       0.000000   -4803.000000  -6259.000000   \n",
       "25%    5.111675e+04  4.671400e+04      27.000000      79.000000      0.000000   \n",
       "50%    2.905775e+05  2.444120e+05   18476.500000     577.000000     39.000000   \n",
       "75%    8.688625e+05  7.555085e+05  122145.750000    1861.250000    250.000000   \n",
       "max    4.885289e+06  4.640489e+06  650437.000000  125572.000000  16929.000000   \n",
       "\n",
       "          tot_death    conf_death    prob_death     new_death    pnew_death  \n",
       "count  24068.000000  24068.000000  24068.000000  24068.000000  24068.000000  \n",
       "mean    9530.116669   8479.680364   1050.436305     21.594025      2.557005  \n",
       "std    11543.261139  10625.259328   1483.513020     49.470092     26.248083  \n",
       "min        0.000000      0.000000      0.000000   -352.000000  -2594.000000  \n",
       "25%      912.750000    863.500000      0.000000      0.000000      0.000000  \n",
       "50%     4687.000000   4087.500000    283.000000      6.000000      0.000000  \n",
       "75%    14502.750000  12648.000000   1640.250000     23.000000      2.000000  \n",
       "max    71408.000000  71408.000000   7177.000000   1178.000000   1021.000000  "
      ]
     },
     "execution_count": 240,
     "metadata": {},
     "output_type": "execute_result"
    }
   ],
   "source": [
    "data.describe()"
   ]
  },
  {
   "cell_type": "code",
   "execution_count": 241,
   "metadata": {},
   "outputs": [
    {
     "data": {
      "text/plain": [
       "<AxesSubplot:title={'center':'Covid Correlation Matrix'}>"
      ]
     },
     "execution_count": 241,
     "metadata": {},
     "output_type": "execute_result"
    },
    {
     "data": {
      "image/png": "[encoded data removed]",
      "text/plain": [
       "<Figure size 720x576 with 2 Axes>"
      ]
     },
     "metadata": {},
     "output_type": "display_data"
    }
   ],
   "source": [
    "data_corr = data.corr()\n",
    "\n",
    "f,ax = plt.subplots(figsize=(10,8))\n",
    "\n",
    "ax.set_title('Covid Correlation Matrix')\n",
    "\n",
    "sns.heatmap(data_corr, mask=np.zeros_like(data_corr, dtype=np.bool_),cmap=sns.diverging_palette(200,10, as_cmap=True), ax=ax, square=True)"
   ]
  },
  {
   "cell_type": "code",
   "execution_count": 242,
   "metadata": {},
   "outputs": [
    {
     "data": {
      "text/plain": [
       "{'AL': 0,\n",
       " 'AZ': 1,\n",
       " 'CA': 2,\n",
       " 'CO': 3,\n",
       " 'CT': 4,\n",
       " 'DE': 5,\n",
       " 'FSM': 6,\n",
       " 'GA': 7,\n",
       " 'ID': 8,\n",
       " 'IL': 9,\n",
       " 'KY': 10,\n",
       " 'MA': 11,\n",
       " 'ME': 12,\n",
       " 'MI': 13,\n",
       " 'MP': 14,\n",
       " 'MS': 15,\n",
       " 'MT': 16,\n",
       " 'NC': 17,\n",
       " 'NE': 18,\n",
       " 'NJ': 19,\n",
       " 'NYC': 20,\n",
       " 'OH': 21,\n",
       " 'OK': 22,\n",
       " 'OR': 23,\n",
       " 'PR': 24,\n",
       " 'RMI': 25,\n",
       " 'TN': 26,\n",
       " 'UT': 27,\n",
       " 'VA': 28,\n",
       " 'WI': 29,\n",
       " 'WY': 30}"
      ]
     },
     "execution_count": 242,
     "metadata": {},
     "output_type": "execute_result"
    }
   ],
   "source": [
    "le = LabelEncoder()\n",
    "# data[['submission_date', 'state', 'created_at', 'consent_cases', 'consent_deaths']] = le.fit_transform(data[['submission_date', 'state', 'created_at', 'consent_cases', 'consent_deaths']])\n",
    "\n",
    "orig_state = data.state\n",
    "\n",
    "data.submission_date = le.fit_transform(data.submission_date)\n",
    "data.state = le.fit_transform(data.state)\n",
    "data.created_at = le.fit_transform(data.created_at)\n",
    "data.consent_cases = le.fit_transform(data.consent_cases)\n",
    "data.consent_deaths = le.fit_transform(data.consent_deaths)\n",
    "\n",
    "le_state = data.state \n",
    "\n",
    "orig_st_dic = np.unique(orig_state)\n",
    "le_st_dic = np.unique(le_state)\n",
    "\n",
    "state_dic = dict(zip(orig_st_dic,le_st_dic))\n",
    "state_dic\n"
   ]
  },
  {
   "cell_type": "code",
   "execution_count": 243,
   "metadata": {},
   "outputs": [],
   "source": [
    "y = data.tot_cases \n",
    "x = data.drop(columns=['tot_cases'])"
   ]
  },
  {
   "cell_type": "code",
   "execution_count": 244,
   "metadata": {},
   "outputs": [],
   "source": [
    "scaler = StandardScaler()\n",
    "x = scaler.fit_transform(x)\n",
    "\n",
    "y = scaler.fit_transform(np.array(y).reshape(-1,1))\n"
   ]
  },
  {
   "cell_type": "code",
   "execution_count": 245,
   "metadata": {},
   "outputs": [],
   "source": [
    "x_train,x_test,y_train,y_test = train_test_split(x,y, random_state=42, test_size=0.2)\n",
    "\n"
   ]
  },
  {
   "cell_type": "code",
   "execution_count": 246,
   "metadata": {},
   "outputs": [
    {
     "data": {
      "text/plain": [
       "1.0"
      ]
     },
     "execution_count": 246,
     "metadata": {},
     "output_type": "execute_result"
    }
   ],
   "source": [
    "linreg = LinearRegression()\n",
    "linreg.fit(x_train,y_train)\n",
    "\n",
    "y_true = y_test \n",
    "\n",
    "y_pred = linreg.predict(x_test)\n",
    "\n",
    "scr_r2 = r2_score(y_true,y_pred).round(3)\n",
    "\n",
    "scr_r2"
   ]
  },
  {
   "cell_type": "code",
   "execution_count": 247,
   "metadata": {},
   "outputs": [
    {
     "name": "stderr",
     "output_type": "stream",
     "text": [
      "C:\\Users\\amunv\\AppData\\Local\\Temp\\ipykernel_12504\\3699821088.py:3: DataConversionWarning: A column-vector y was passed when a 1d array was expected. Please change the shape of y to (n_samples,), for example using ravel().\n",
      "  ranfor.fit(x_train,y_train)\n"
     ]
    },
    {
     "data": {
      "text/html": [
       "<div>\n",
       "<style scoped>\n",
       "    .dataframe tbody tr th:only-of-type {\n",
       "        vertical-align: middle;\n",
       "    }\n",
       "\n",
       "    .dataframe tbody tr th {\n",
       "        vertical-align: top;\n",
       "    }\n",
       "\n",
       "    .dataframe thead th {\n",
       "        text-align: right;\n",
       "    }\n",
       "</style>\n",
       "<table border=\"1\" class=\"dataframe\">\n",
       "  <thead>\n",
       "    <tr style=\"text-align: right;\">\n",
       "      <th></th>\n",
       "      <th>Method</th>\n",
       "      <th>Test RanFor</th>\n",
       "    </tr>\n",
       "  </thead>\n",
       "  <tbody>\n",
       "    <tr>\n",
       "      <th>0</th>\n",
       "      <td>RandomForestRegressor</td>\n",
       "      <td>0.000021</td>\n",
       "    </tr>\n",
       "  </tbody>\n",
       "</table>\n",
       "</div>"
      ],
      "text/plain": [
       "                  Method Test RanFor\n",
       "0  RandomForestRegressor    0.000021"
      ]
     },
     "execution_count": 247,
     "metadata": {},
     "output_type": "execute_result"
    }
   ],
   "source": [
    "ranfor = RandomForestRegressor(n_estimators=100, n_jobs=-1, criterion='squared_error', random_state=42)\n",
    "\n",
    "ranfor.fit(x_train,y_train)\n",
    "\n",
    "y_pred = ranfor.predict(x_test)\n",
    "\n",
    "scr_mse = mean_squared_error(y_test,y_pred)\n",
    "\n",
    "modperf = pd.DataFrame( \n",
    "    [ \n",
    "        'RandomForestRegressor', scr_mse\n",
    "    ]\n",
    ").transpose()\n",
    "\n",
    "modperf.columns = ['Method', 'Test RanFor']\n",
    "\n",
    "modperf"
   ]
  }
 ],
 "metadata": {
  "kernelspec": {
   "display_name": "Python 3",
   "language": "python",
   "name": "python3"
  },
  "language_info": {
   "codemirror_mode": {
    "name": "ipython",
    "version": 3
   },
   "file_extension": ".py",
   "mimetype": "text/x-python",
   "name": "python",
   "nbconvert_exporter": "python",
   "pygments_lexer": "ipython3",
   "version": "3.10.5"
  }
 },
 "nbformat": 4,
 "nbformat_minor": 2
}
