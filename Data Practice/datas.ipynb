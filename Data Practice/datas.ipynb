{
 "cells": [
  {
   "cell_type": "code",
   "execution_count": null,
   "metadata": {},
   "outputs": [],
   "source": [
    "# Github\\Sol\\the_data\\data-lab-3-insurance.csv'\n",
    "\n",
    "# Github\\Sol\\the_data\\data-lab-5-hcv.csv\n",
    "\n",
    "# data-lab-3-insurance\n",
    "# data-lab-4-heart\n",
    "# data-lab-5-hcv\n",
    "# data-lab-6-ckd-courseproject"
   ]
  }
 ],
 "metadata": {
  "language_info": {
   "name": "python"
  },
  "orig_nbformat": 4
 },
 "nbformat": 4,
 "nbformat_minor": 2
}
