{
 "cells": [
  {
   "cell_type": "code",
   "execution_count": null,
   "metadata": {},
   "outputs": [],
   "source": [
    "# Github\\Sol\\the_data\\data-lab-3-insurance.csv'\n",
    "\n",
    "# Github\\Sol\\the_data\\data-lab-5-hcv.csv\n",
    "\n",
    "# data-lab-3-insurance\n",
    "# data-lab-4-heart\n",
    "# data-lab-5-hcv\n",
    "# data-lab-6-ckd-courseproject"
   ]
  },
  {
   "cell_type": "code",
   "execution_count": null,
   "metadata": {},
   "outputs": [],
   "source": [
    "# [['ALP', 'CHOL', 'ALB', 'ALT', 'PROT']] \n",
    "\n",
    "# ['age','trestbps','chol','thalach','oldpeak']   \n",
    "# ['sex', 'cp', 'restecg', 'exang', 'slope', 'ca', 'thal']"
   ]
  },
  {
   "cell_type": "code",
   "execution_count": null,
   "metadata": {},
   "outputs": [],
   "source": []
  },
  {
   "cell_type": "code",
   "execution_count": null,
   "metadata": {},
   "outputs": [],
   "source": []
  }
 ],
 "metadata": {
  "language_info": {
   "name": "python"
  },
  "orig_nbformat": 4
 },
 "nbformat": 4,
 "nbformat_minor": 2
}
